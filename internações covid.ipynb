{
 "cells": [
  {
   "cell_type": "code",
   "execution_count": 12,
   "id": "hired-taxation",
   "metadata": {},
   "outputs": [],
   "source": [
    "# Importação de bibliotecas e módulos\n",
    "import pandas as pd"
   ]
  },
  {
   "cell_type": "code",
   "execution_count": 13,
   "id": "centered-string",
   "metadata": {},
   "outputs": [],
   "source": [
    "# Me mostre tudo\n",
    "pd.set_option('display.max_rows', None)\n",
    "pd.set_option('display.max_columns', None)"
   ]
  },
  {
   "cell_type": "code",
   "execution_count": 14,
   "id": "polish-church",
   "metadata": {
    "scrolled": true
   },
   "outputs": [],
   "source": [
    "#Abrindo a tabela\n",
    "#Com o parse_dates, o pandas reconhece a coluna como sendo uma data\n",
    "#Com o dayfirst, considero o dia antes do ano no formato da data\n",
    "df = pd.read_csv('20210207_SRAG.csv', encoding = 'Latin-1', sep = ';', parse_dates=['Data de Notificação'], dayfirst=True)"
   ]
  },
  {
   "cell_type": "code",
   "execution_count": 15,
   "id": "exceptional-sucking",
   "metadata": {},
   "outputs": [],
   "source": [
    "#Renomeando colunas para evitar problemas de espaçamento\n",
    "df.columns = ['MUNICIPIO', 'UF', 'IDADE', 'GRUPO_DE_IDADE', 'SEXO', 'RACA', 'COVID_E_OUTRAS_SRAG', 'EVOLUACAO', 'N_HOMENS', 'N_MULHERES', 'CASOS', 'Raca_ID', 'Cs Sexo_ID', 'DATA_DE_NOTIFICACAO', 'FAIXA_ETARIA', 'EVOLUCAO_NOT_NULL', 'ULTIMA_DATA_DE_NOTIFICACAO']"
   ]
  },
  {
   "cell_type": "code",
   "execution_count": 16,
   "id": "demanding-aquarium",
   "metadata": {},
   "outputs": [
    {
     "data": {
      "text/html": [
       "<div>\n",
       "<style scoped>\n",
       "    .dataframe tbody tr th:only-of-type {\n",
       "        vertical-align: middle;\n",
       "    }\n",
       "\n",
       "    .dataframe tbody tr th {\n",
       "        vertical-align: top;\n",
       "    }\n",
       "\n",
       "    .dataframe thead th {\n",
       "        text-align: right;\n",
       "    }\n",
       "</style>\n",
       "<table border=\"1\" class=\"dataframe\">\n",
       "  <thead>\n",
       "    <tr style=\"text-align: right;\">\n",
       "      <th></th>\n",
       "      <th>MUNICIPIO</th>\n",
       "      <th>UF</th>\n",
       "      <th>IDADE</th>\n",
       "      <th>GRUPO_DE_IDADE</th>\n",
       "      <th>SEXO</th>\n",
       "      <th>RACA</th>\n",
       "      <th>COVID_E_OUTRAS_SRAG</th>\n",
       "      <th>EVOLUACAO</th>\n",
       "      <th>N_HOMENS</th>\n",
       "      <th>N_MULHERES</th>\n",
       "      <th>CASOS</th>\n",
       "      <th>Raca_ID</th>\n",
       "      <th>Cs Sexo_ID</th>\n",
       "      <th>DATA_DE_NOTIFICACAO</th>\n",
       "      <th>FAIXA_ETARIA</th>\n",
       "      <th>EVOLUCAO_NOT_NULL</th>\n",
       "      <th>ULTIMA_DATA_DE_NOTIFICACAO</th>\n",
       "    </tr>\n",
       "  </thead>\n",
       "  <tbody>\n",
       "    <tr>\n",
       "      <th>0</th>\n",
       "      <td>RIBEIRAO PRETO</td>\n",
       "      <td>SP</td>\n",
       "      <td>84</td>\n",
       "      <td>80</td>\n",
       "      <td>Masculino</td>\n",
       "      <td>Branca</td>\n",
       "      <td>OUTRAS SRAG</td>\n",
       "      <td>Cura</td>\n",
       "      <td>84.0</td>\n",
       "      <td>NaN</td>\n",
       "      <td>1</td>\n",
       "      <td>1</td>\n",
       "      <td>Masculino</td>\n",
       "      <td>2020-06-23</td>\n",
       "      <td>80</td>\n",
       "      <td>1</td>\n",
       "      <td>29/09/2020</td>\n",
       "    </tr>\n",
       "    <tr>\n",
       "      <th>1</th>\n",
       "      <td>RIO CLARO</td>\n",
       "      <td>SP</td>\n",
       "      <td>84</td>\n",
       "      <td>80</td>\n",
       "      <td>Masculino</td>\n",
       "      <td>Branca</td>\n",
       "      <td>OUTRAS SRAG</td>\n",
       "      <td>Cura</td>\n",
       "      <td>84.0</td>\n",
       "      <td>NaN</td>\n",
       "      <td>1</td>\n",
       "      <td>1</td>\n",
       "      <td>Masculino</td>\n",
       "      <td>2020-07-05</td>\n",
       "      <td>80</td>\n",
       "      <td>1</td>\n",
       "      <td>29/09/2020</td>\n",
       "    </tr>\n",
       "    <tr>\n",
       "      <th>2</th>\n",
       "      <td>SAO JOSE DOS CAMPOS</td>\n",
       "      <td>SP</td>\n",
       "      <td>84</td>\n",
       "      <td>80</td>\n",
       "      <td>Masculino</td>\n",
       "      <td>Branca</td>\n",
       "      <td>OUTRAS SRAG</td>\n",
       "      <td>Cura</td>\n",
       "      <td>84.0</td>\n",
       "      <td>NaN</td>\n",
       "      <td>1</td>\n",
       "      <td>1</td>\n",
       "      <td>Masculino</td>\n",
       "      <td>2020-08-02</td>\n",
       "      <td>80</td>\n",
       "      <td>1</td>\n",
       "      <td>29/09/2020</td>\n",
       "    </tr>\n",
       "    <tr>\n",
       "      <th>3</th>\n",
       "      <td>ITAPEVA</td>\n",
       "      <td>SP</td>\n",
       "      <td>84</td>\n",
       "      <td>80</td>\n",
       "      <td>Masculino</td>\n",
       "      <td>Branca</td>\n",
       "      <td>OUTRAS SRAG</td>\n",
       "      <td>Cura</td>\n",
       "      <td>84.0</td>\n",
       "      <td>NaN</td>\n",
       "      <td>1</td>\n",
       "      <td>1</td>\n",
       "      <td>Masculino</td>\n",
       "      <td>2020-08-14</td>\n",
       "      <td>80</td>\n",
       "      <td>1</td>\n",
       "      <td>29/09/2020</td>\n",
       "    </tr>\n",
       "    <tr>\n",
       "      <th>4</th>\n",
       "      <td>SALTO</td>\n",
       "      <td>SP</td>\n",
       "      <td>84</td>\n",
       "      <td>80</td>\n",
       "      <td>Masculino</td>\n",
       "      <td>Branca</td>\n",
       "      <td>OUTRAS SRAG</td>\n",
       "      <td>Cura</td>\n",
       "      <td>84.0</td>\n",
       "      <td>NaN</td>\n",
       "      <td>1</td>\n",
       "      <td>1</td>\n",
       "      <td>Masculino</td>\n",
       "      <td>2020-09-06</td>\n",
       "      <td>80</td>\n",
       "      <td>1</td>\n",
       "      <td>29/09/2020</td>\n",
       "    </tr>\n",
       "  </tbody>\n",
       "</table>\n",
       "</div>"
      ],
      "text/plain": [
       "             MUNICIPIO  UF  IDADE  GRUPO_DE_IDADE       SEXO    RACA  \\\n",
       "0       RIBEIRAO PRETO  SP     84              80  Masculino  Branca   \n",
       "1            RIO CLARO  SP     84              80  Masculino  Branca   \n",
       "2  SAO JOSE DOS CAMPOS  SP     84              80  Masculino  Branca   \n",
       "3              ITAPEVA  SP     84              80  Masculino  Branca   \n",
       "4                SALTO  SP     84              80  Masculino  Branca   \n",
       "\n",
       "  COVID_E_OUTRAS_SRAG EVOLUACAO  N_HOMENS  N_MULHERES  CASOS  Raca_ID  \\\n",
       "0         OUTRAS SRAG      Cura      84.0         NaN      1        1   \n",
       "1         OUTRAS SRAG      Cura      84.0         NaN      1        1   \n",
       "2         OUTRAS SRAG      Cura      84.0         NaN      1        1   \n",
       "3         OUTRAS SRAG      Cura      84.0         NaN      1        1   \n",
       "4         OUTRAS SRAG      Cura      84.0         NaN      1        1   \n",
       "\n",
       "  Cs Sexo_ID DATA_DE_NOTIFICACAO  FAIXA_ETARIA  EVOLUCAO_NOT_NULL  \\\n",
       "0  Masculino          2020-06-23            80                  1   \n",
       "1  Masculino          2020-07-05            80                  1   \n",
       "2  Masculino          2020-08-02            80                  1   \n",
       "3  Masculino          2020-08-14            80                  1   \n",
       "4  Masculino          2020-09-06            80                  1   \n",
       "\n",
       "  ULTIMA_DATA_DE_NOTIFICACAO  \n",
       "0                 29/09/2020  \n",
       "1                 29/09/2020  \n",
       "2                 29/09/2020  \n",
       "3                 29/09/2020  \n",
       "4                 29/09/2020  "
      ]
     },
     "execution_count": 16,
     "metadata": {},
     "output_type": "execute_result"
    }
   ],
   "source": [
    "# Vendo meu df\n",
    "df.head()"
   ]
  },
  {
   "cell_type": "code",
   "execution_count": 17,
   "id": "exterior-greece",
   "metadata": {},
   "outputs": [
    {
     "data": {
      "text/plain": [
       "array(['OUTRAS SRAG', 'COVID 19'], dtype=object)"
      ]
     },
     "execution_count": 17,
     "metadata": {},
     "output_type": "execute_result"
    }
   ],
   "source": [
    "#Quais as opções da coluna 'COVID_E_OUTRAS_SRAG'\n",
    "df.COVID_E_OUTRAS_SRAG.unique()"
   ]
  },
  {
   "cell_type": "code",
   "execution_count": 18,
   "id": "noted-remark",
   "metadata": {},
   "outputs": [],
   "source": [
    "#Escolher apenas a opção COVID 19 na coluna 'COVID_E_OUTRAS_SRAG'\n",
    "df = df[df.COVID_E_OUTRAS_SRAG == 'COVID 19']"
   ]
  },
  {
   "cell_type": "code",
   "execution_count": 19,
   "id": "wired-desktop",
   "metadata": {},
   "outputs": [],
   "source": [
    "#Escolher apenas a cidade de SAO PAULO na coluna MUNICIPIO\n",
    "df = df[df.MUNICIPIO == 'SAO PAULO']"
   ]
  },
  {
   "cell_type": "code",
   "execution_count": 20,
   "id": "prepared-tourism",
   "metadata": {},
   "outputs": [
    {
     "data": {
      "text/html": [
       "<div>\n",
       "<style scoped>\n",
       "    .dataframe tbody tr th:only-of-type {\n",
       "        vertical-align: middle;\n",
       "    }\n",
       "\n",
       "    .dataframe tbody tr th {\n",
       "        vertical-align: top;\n",
       "    }\n",
       "\n",
       "    .dataframe thead th {\n",
       "        text-align: right;\n",
       "    }\n",
       "</style>\n",
       "<table border=\"1\" class=\"dataframe\">\n",
       "  <thead>\n",
       "    <tr style=\"text-align: right;\">\n",
       "      <th></th>\n",
       "      <th>MUNICIPIO</th>\n",
       "      <th>UF</th>\n",
       "      <th>IDADE</th>\n",
       "      <th>GRUPO_DE_IDADE</th>\n",
       "      <th>SEXO</th>\n",
       "      <th>RACA</th>\n",
       "      <th>COVID_E_OUTRAS_SRAG</th>\n",
       "      <th>EVOLUACAO</th>\n",
       "      <th>N_HOMENS</th>\n",
       "      <th>N_MULHERES</th>\n",
       "      <th>CASOS</th>\n",
       "      <th>Raca_ID</th>\n",
       "      <th>Cs Sexo_ID</th>\n",
       "      <th>DATA_DE_NOTIFICACAO</th>\n",
       "      <th>FAIXA_ETARIA</th>\n",
       "      <th>EVOLUCAO_NOT_NULL</th>\n",
       "      <th>ULTIMA_DATA_DE_NOTIFICACAO</th>\n",
       "    </tr>\n",
       "  </thead>\n",
       "  <tbody>\n",
       "    <tr>\n",
       "      <th>554</th>\n",
       "      <td>SAO PAULO</td>\n",
       "      <td>SP</td>\n",
       "      <td>18</td>\n",
       "      <td>15</td>\n",
       "      <td>Feminino</td>\n",
       "      <td>Branca</td>\n",
       "      <td>COVID 19</td>\n",
       "      <td>Cura</td>\n",
       "      <td>NaN</td>\n",
       "      <td>18.0</td>\n",
       "      <td>1</td>\n",
       "      <td>1</td>\n",
       "      <td>Feminino</td>\n",
       "      <td>2020-05-19</td>\n",
       "      <td>15</td>\n",
       "      <td>1</td>\n",
       "      <td>29/09/2020</td>\n",
       "    </tr>\n",
       "    <tr>\n",
       "      <th>556</th>\n",
       "      <td>SAO PAULO</td>\n",
       "      <td>SP</td>\n",
       "      <td>18</td>\n",
       "      <td>15</td>\n",
       "      <td>Feminino</td>\n",
       "      <td>Branca</td>\n",
       "      <td>COVID 19</td>\n",
       "      <td>Cura</td>\n",
       "      <td>NaN</td>\n",
       "      <td>18.0</td>\n",
       "      <td>1</td>\n",
       "      <td>1</td>\n",
       "      <td>Feminino</td>\n",
       "      <td>2020-12-14</td>\n",
       "      <td>15</td>\n",
       "      <td>1</td>\n",
       "      <td>29/09/2020</td>\n",
       "    </tr>\n",
       "    <tr>\n",
       "      <th>558</th>\n",
       "      <td>SAO PAULO</td>\n",
       "      <td>SP</td>\n",
       "      <td>19</td>\n",
       "      <td>15</td>\n",
       "      <td>Feminino</td>\n",
       "      <td>Branca</td>\n",
       "      <td>COVID 19</td>\n",
       "      <td>Cura</td>\n",
       "      <td>NaN</td>\n",
       "      <td>19.0</td>\n",
       "      <td>1</td>\n",
       "      <td>1</td>\n",
       "      <td>Feminino</td>\n",
       "      <td>2020-05-16</td>\n",
       "      <td>15</td>\n",
       "      <td>1</td>\n",
       "      <td>29/09/2020</td>\n",
       "    </tr>\n",
       "    <tr>\n",
       "      <th>559</th>\n",
       "      <td>SAO PAULO</td>\n",
       "      <td>SP</td>\n",
       "      <td>19</td>\n",
       "      <td>15</td>\n",
       "      <td>Feminino</td>\n",
       "      <td>Branca</td>\n",
       "      <td>COVID 19</td>\n",
       "      <td>Cura</td>\n",
       "      <td>NaN</td>\n",
       "      <td>19.0</td>\n",
       "      <td>1</td>\n",
       "      <td>1</td>\n",
       "      <td>Feminino</td>\n",
       "      <td>2020-05-22</td>\n",
       "      <td>15</td>\n",
       "      <td>1</td>\n",
       "      <td>29/09/2020</td>\n",
       "    </tr>\n",
       "    <tr>\n",
       "      <th>560</th>\n",
       "      <td>SAO PAULO</td>\n",
       "      <td>SP</td>\n",
       "      <td>19</td>\n",
       "      <td>15</td>\n",
       "      <td>Feminino</td>\n",
       "      <td>Branca</td>\n",
       "      <td>COVID 19</td>\n",
       "      <td>Cura</td>\n",
       "      <td>NaN</td>\n",
       "      <td>19.0</td>\n",
       "      <td>1</td>\n",
       "      <td>1</td>\n",
       "      <td>Feminino</td>\n",
       "      <td>2020-09-21</td>\n",
       "      <td>15</td>\n",
       "      <td>1</td>\n",
       "      <td>29/09/2020</td>\n",
       "    </tr>\n",
       "  </tbody>\n",
       "</table>\n",
       "</div>"
      ],
      "text/plain": [
       "     MUNICIPIO  UF  IDADE  GRUPO_DE_IDADE      SEXO    RACA  \\\n",
       "554  SAO PAULO  SP     18              15  Feminino  Branca   \n",
       "556  SAO PAULO  SP     18              15  Feminino  Branca   \n",
       "558  SAO PAULO  SP     19              15  Feminino  Branca   \n",
       "559  SAO PAULO  SP     19              15  Feminino  Branca   \n",
       "560  SAO PAULO  SP     19              15  Feminino  Branca   \n",
       "\n",
       "    COVID_E_OUTRAS_SRAG EVOLUACAO  N_HOMENS  N_MULHERES  CASOS  Raca_ID  \\\n",
       "554            COVID 19      Cura       NaN        18.0      1        1   \n",
       "556            COVID 19      Cura       NaN        18.0      1        1   \n",
       "558            COVID 19      Cura       NaN        19.0      1        1   \n",
       "559            COVID 19      Cura       NaN        19.0      1        1   \n",
       "560            COVID 19      Cura       NaN        19.0      1        1   \n",
       "\n",
       "    Cs Sexo_ID DATA_DE_NOTIFICACAO  FAIXA_ETARIA  EVOLUCAO_NOT_NULL  \\\n",
       "554   Feminino          2020-05-19            15                  1   \n",
       "556   Feminino          2020-12-14            15                  1   \n",
       "558   Feminino          2020-05-16            15                  1   \n",
       "559   Feminino          2020-05-22            15                  1   \n",
       "560   Feminino          2020-09-21            15                  1   \n",
       "\n",
       "    ULTIMA_DATA_DE_NOTIFICACAO  \n",
       "554                 29/09/2020  \n",
       "556                 29/09/2020  \n",
       "558                 29/09/2020  \n",
       "559                 29/09/2020  \n",
       "560                 29/09/2020  "
      ]
     },
     "execution_count": 20,
     "metadata": {},
     "output_type": "execute_result"
    }
   ],
   "source": [
    "# Vendo meu df\n",
    "df.head()"
   ]
  },
  {
   "cell_type": "code",
   "execution_count": 21,
   "id": "potential-research",
   "metadata": {},
   "outputs": [],
   "source": [
    "#criando age range\n",
    "bins = [0, 9, 19, 29, 39, 49, 59, 69, 79, 89, 200]"
   ]
  },
  {
   "cell_type": "code",
   "execution_count": 22,
   "id": "alone-station",
   "metadata": {},
   "outputs": [],
   "source": [
    "labels = ['10-', '10-19', '20-29', '30-39', '40-49', '50-59', '60-69', '70-79', \n",
    "          '80-89', '90+']"
   ]
  },
  {
   "cell_type": "code",
   "execution_count": 23,
   "id": "boring-russell",
   "metadata": {},
   "outputs": [],
   "source": [
    "df['agerange'] = pd.cut(df.IDADE, bins, labels=labels, include_lowest=True)"
   ]
  },
  {
   "cell_type": "code",
   "execution_count": 24,
   "id": "backed-shanghai",
   "metadata": {
    "scrolled": true
   },
   "outputs": [
    {
     "data": {
      "text/html": [
       "<div>\n",
       "<style scoped>\n",
       "    .dataframe tbody tr th:only-of-type {\n",
       "        vertical-align: middle;\n",
       "    }\n",
       "\n",
       "    .dataframe tbody tr th {\n",
       "        vertical-align: top;\n",
       "    }\n",
       "\n",
       "    .dataframe thead th {\n",
       "        text-align: right;\n",
       "    }\n",
       "</style>\n",
       "<table border=\"1\" class=\"dataframe\">\n",
       "  <thead>\n",
       "    <tr style=\"text-align: right;\">\n",
       "      <th></th>\n",
       "      <th>MUNICIPIO</th>\n",
       "      <th>UF</th>\n",
       "      <th>IDADE</th>\n",
       "      <th>GRUPO_DE_IDADE</th>\n",
       "      <th>SEXO</th>\n",
       "      <th>RACA</th>\n",
       "      <th>COVID_E_OUTRAS_SRAG</th>\n",
       "      <th>EVOLUACAO</th>\n",
       "      <th>N_HOMENS</th>\n",
       "      <th>N_MULHERES</th>\n",
       "      <th>CASOS</th>\n",
       "      <th>Raca_ID</th>\n",
       "      <th>Cs Sexo_ID</th>\n",
       "      <th>DATA_DE_NOTIFICACAO</th>\n",
       "      <th>FAIXA_ETARIA</th>\n",
       "      <th>EVOLUCAO_NOT_NULL</th>\n",
       "      <th>ULTIMA_DATA_DE_NOTIFICACAO</th>\n",
       "      <th>agerange</th>\n",
       "    </tr>\n",
       "  </thead>\n",
       "  <tbody>\n",
       "    <tr>\n",
       "      <th>554</th>\n",
       "      <td>SAO PAULO</td>\n",
       "      <td>SP</td>\n",
       "      <td>18</td>\n",
       "      <td>15</td>\n",
       "      <td>Feminino</td>\n",
       "      <td>Branca</td>\n",
       "      <td>COVID 19</td>\n",
       "      <td>Cura</td>\n",
       "      <td>NaN</td>\n",
       "      <td>18.0</td>\n",
       "      <td>1</td>\n",
       "      <td>1</td>\n",
       "      <td>Feminino</td>\n",
       "      <td>2020-05-19</td>\n",
       "      <td>15</td>\n",
       "      <td>1</td>\n",
       "      <td>29/09/2020</td>\n",
       "      <td>10-19</td>\n",
       "    </tr>\n",
       "    <tr>\n",
       "      <th>556</th>\n",
       "      <td>SAO PAULO</td>\n",
       "      <td>SP</td>\n",
       "      <td>18</td>\n",
       "      <td>15</td>\n",
       "      <td>Feminino</td>\n",
       "      <td>Branca</td>\n",
       "      <td>COVID 19</td>\n",
       "      <td>Cura</td>\n",
       "      <td>NaN</td>\n",
       "      <td>18.0</td>\n",
       "      <td>1</td>\n",
       "      <td>1</td>\n",
       "      <td>Feminino</td>\n",
       "      <td>2020-12-14</td>\n",
       "      <td>15</td>\n",
       "      <td>1</td>\n",
       "      <td>29/09/2020</td>\n",
       "      <td>10-19</td>\n",
       "    </tr>\n",
       "    <tr>\n",
       "      <th>558</th>\n",
       "      <td>SAO PAULO</td>\n",
       "      <td>SP</td>\n",
       "      <td>19</td>\n",
       "      <td>15</td>\n",
       "      <td>Feminino</td>\n",
       "      <td>Branca</td>\n",
       "      <td>COVID 19</td>\n",
       "      <td>Cura</td>\n",
       "      <td>NaN</td>\n",
       "      <td>19.0</td>\n",
       "      <td>1</td>\n",
       "      <td>1</td>\n",
       "      <td>Feminino</td>\n",
       "      <td>2020-05-16</td>\n",
       "      <td>15</td>\n",
       "      <td>1</td>\n",
       "      <td>29/09/2020</td>\n",
       "      <td>10-19</td>\n",
       "    </tr>\n",
       "    <tr>\n",
       "      <th>559</th>\n",
       "      <td>SAO PAULO</td>\n",
       "      <td>SP</td>\n",
       "      <td>19</td>\n",
       "      <td>15</td>\n",
       "      <td>Feminino</td>\n",
       "      <td>Branca</td>\n",
       "      <td>COVID 19</td>\n",
       "      <td>Cura</td>\n",
       "      <td>NaN</td>\n",
       "      <td>19.0</td>\n",
       "      <td>1</td>\n",
       "      <td>1</td>\n",
       "      <td>Feminino</td>\n",
       "      <td>2020-05-22</td>\n",
       "      <td>15</td>\n",
       "      <td>1</td>\n",
       "      <td>29/09/2020</td>\n",
       "      <td>10-19</td>\n",
       "    </tr>\n",
       "    <tr>\n",
       "      <th>560</th>\n",
       "      <td>SAO PAULO</td>\n",
       "      <td>SP</td>\n",
       "      <td>19</td>\n",
       "      <td>15</td>\n",
       "      <td>Feminino</td>\n",
       "      <td>Branca</td>\n",
       "      <td>COVID 19</td>\n",
       "      <td>Cura</td>\n",
       "      <td>NaN</td>\n",
       "      <td>19.0</td>\n",
       "      <td>1</td>\n",
       "      <td>1</td>\n",
       "      <td>Feminino</td>\n",
       "      <td>2020-09-21</td>\n",
       "      <td>15</td>\n",
       "      <td>1</td>\n",
       "      <td>29/09/2020</td>\n",
       "      <td>10-19</td>\n",
       "    </tr>\n",
       "  </tbody>\n",
       "</table>\n",
       "</div>"
      ],
      "text/plain": [
       "     MUNICIPIO  UF  IDADE  GRUPO_DE_IDADE      SEXO    RACA  \\\n",
       "554  SAO PAULO  SP     18              15  Feminino  Branca   \n",
       "556  SAO PAULO  SP     18              15  Feminino  Branca   \n",
       "558  SAO PAULO  SP     19              15  Feminino  Branca   \n",
       "559  SAO PAULO  SP     19              15  Feminino  Branca   \n",
       "560  SAO PAULO  SP     19              15  Feminino  Branca   \n",
       "\n",
       "    COVID_E_OUTRAS_SRAG EVOLUACAO  N_HOMENS  N_MULHERES  CASOS  Raca_ID  \\\n",
       "554            COVID 19      Cura       NaN        18.0      1        1   \n",
       "556            COVID 19      Cura       NaN        18.0      1        1   \n",
       "558            COVID 19      Cura       NaN        19.0      1        1   \n",
       "559            COVID 19      Cura       NaN        19.0      1        1   \n",
       "560            COVID 19      Cura       NaN        19.0      1        1   \n",
       "\n",
       "    Cs Sexo_ID DATA_DE_NOTIFICACAO  FAIXA_ETARIA  EVOLUCAO_NOT_NULL  \\\n",
       "554   Feminino          2020-05-19            15                  1   \n",
       "556   Feminino          2020-12-14            15                  1   \n",
       "558   Feminino          2020-05-16            15                  1   \n",
       "559   Feminino          2020-05-22            15                  1   \n",
       "560   Feminino          2020-09-21            15                  1   \n",
       "\n",
       "    ULTIMA_DATA_DE_NOTIFICACAO agerange  \n",
       "554                 29/09/2020    10-19  \n",
       "556                 29/09/2020    10-19  \n",
       "558                 29/09/2020    10-19  \n",
       "559                 29/09/2020    10-19  \n",
       "560                 29/09/2020    10-19  "
      ]
     },
     "execution_count": 24,
     "metadata": {},
     "output_type": "execute_result"
    }
   ],
   "source": [
    "# Vendo meu df\n",
    "df.head()"
   ]
  },
  {
   "cell_type": "code",
   "execution_count": 25,
   "id": "engaging-multimedia",
   "metadata": {},
   "outputs": [],
   "source": [
    "#Criando as colunas de ano e mês\n",
    "df['ano'] = df['DATA_DE_NOTIFICACAO'].dt.year\n",
    "df['mes'] = df['DATA_DE_NOTIFICACAO'].dt.month"
   ]
  },
  {
   "cell_type": "code",
   "execution_count": 26,
   "id": "parliamentary-pleasure",
   "metadata": {
    "scrolled": true
   },
   "outputs": [
    {
     "data": {
      "text/html": [
       "<div>\n",
       "<style scoped>\n",
       "    .dataframe tbody tr th:only-of-type {\n",
       "        vertical-align: middle;\n",
       "    }\n",
       "\n",
       "    .dataframe tbody tr th {\n",
       "        vertical-align: top;\n",
       "    }\n",
       "\n",
       "    .dataframe thead th {\n",
       "        text-align: right;\n",
       "    }\n",
       "</style>\n",
       "<table border=\"1\" class=\"dataframe\">\n",
       "  <thead>\n",
       "    <tr style=\"text-align: right;\">\n",
       "      <th></th>\n",
       "      <th>MUNICIPIO</th>\n",
       "      <th>UF</th>\n",
       "      <th>IDADE</th>\n",
       "      <th>GRUPO_DE_IDADE</th>\n",
       "      <th>SEXO</th>\n",
       "      <th>RACA</th>\n",
       "      <th>COVID_E_OUTRAS_SRAG</th>\n",
       "      <th>EVOLUACAO</th>\n",
       "      <th>N_HOMENS</th>\n",
       "      <th>N_MULHERES</th>\n",
       "      <th>CASOS</th>\n",
       "      <th>Raca_ID</th>\n",
       "      <th>Cs Sexo_ID</th>\n",
       "      <th>DATA_DE_NOTIFICACAO</th>\n",
       "      <th>FAIXA_ETARIA</th>\n",
       "      <th>EVOLUCAO_NOT_NULL</th>\n",
       "      <th>ULTIMA_DATA_DE_NOTIFICACAO</th>\n",
       "      <th>agerange</th>\n",
       "      <th>ano</th>\n",
       "      <th>mes</th>\n",
       "    </tr>\n",
       "  </thead>\n",
       "  <tbody>\n",
       "    <tr>\n",
       "      <th>554</th>\n",
       "      <td>SAO PAULO</td>\n",
       "      <td>SP</td>\n",
       "      <td>18</td>\n",
       "      <td>15</td>\n",
       "      <td>Feminino</td>\n",
       "      <td>Branca</td>\n",
       "      <td>COVID 19</td>\n",
       "      <td>Cura</td>\n",
       "      <td>NaN</td>\n",
       "      <td>18.0</td>\n",
       "      <td>1</td>\n",
       "      <td>1</td>\n",
       "      <td>Feminino</td>\n",
       "      <td>2020-05-19</td>\n",
       "      <td>15</td>\n",
       "      <td>1</td>\n",
       "      <td>29/09/2020</td>\n",
       "      <td>10-19</td>\n",
       "      <td>2020</td>\n",
       "      <td>5</td>\n",
       "    </tr>\n",
       "    <tr>\n",
       "      <th>556</th>\n",
       "      <td>SAO PAULO</td>\n",
       "      <td>SP</td>\n",
       "      <td>18</td>\n",
       "      <td>15</td>\n",
       "      <td>Feminino</td>\n",
       "      <td>Branca</td>\n",
       "      <td>COVID 19</td>\n",
       "      <td>Cura</td>\n",
       "      <td>NaN</td>\n",
       "      <td>18.0</td>\n",
       "      <td>1</td>\n",
       "      <td>1</td>\n",
       "      <td>Feminino</td>\n",
       "      <td>2020-12-14</td>\n",
       "      <td>15</td>\n",
       "      <td>1</td>\n",
       "      <td>29/09/2020</td>\n",
       "      <td>10-19</td>\n",
       "      <td>2020</td>\n",
       "      <td>12</td>\n",
       "    </tr>\n",
       "    <tr>\n",
       "      <th>558</th>\n",
       "      <td>SAO PAULO</td>\n",
       "      <td>SP</td>\n",
       "      <td>19</td>\n",
       "      <td>15</td>\n",
       "      <td>Feminino</td>\n",
       "      <td>Branca</td>\n",
       "      <td>COVID 19</td>\n",
       "      <td>Cura</td>\n",
       "      <td>NaN</td>\n",
       "      <td>19.0</td>\n",
       "      <td>1</td>\n",
       "      <td>1</td>\n",
       "      <td>Feminino</td>\n",
       "      <td>2020-05-16</td>\n",
       "      <td>15</td>\n",
       "      <td>1</td>\n",
       "      <td>29/09/2020</td>\n",
       "      <td>10-19</td>\n",
       "      <td>2020</td>\n",
       "      <td>5</td>\n",
       "    </tr>\n",
       "    <tr>\n",
       "      <th>559</th>\n",
       "      <td>SAO PAULO</td>\n",
       "      <td>SP</td>\n",
       "      <td>19</td>\n",
       "      <td>15</td>\n",
       "      <td>Feminino</td>\n",
       "      <td>Branca</td>\n",
       "      <td>COVID 19</td>\n",
       "      <td>Cura</td>\n",
       "      <td>NaN</td>\n",
       "      <td>19.0</td>\n",
       "      <td>1</td>\n",
       "      <td>1</td>\n",
       "      <td>Feminino</td>\n",
       "      <td>2020-05-22</td>\n",
       "      <td>15</td>\n",
       "      <td>1</td>\n",
       "      <td>29/09/2020</td>\n",
       "      <td>10-19</td>\n",
       "      <td>2020</td>\n",
       "      <td>5</td>\n",
       "    </tr>\n",
       "    <tr>\n",
       "      <th>560</th>\n",
       "      <td>SAO PAULO</td>\n",
       "      <td>SP</td>\n",
       "      <td>19</td>\n",
       "      <td>15</td>\n",
       "      <td>Feminino</td>\n",
       "      <td>Branca</td>\n",
       "      <td>COVID 19</td>\n",
       "      <td>Cura</td>\n",
       "      <td>NaN</td>\n",
       "      <td>19.0</td>\n",
       "      <td>1</td>\n",
       "      <td>1</td>\n",
       "      <td>Feminino</td>\n",
       "      <td>2020-09-21</td>\n",
       "      <td>15</td>\n",
       "      <td>1</td>\n",
       "      <td>29/09/2020</td>\n",
       "      <td>10-19</td>\n",
       "      <td>2020</td>\n",
       "      <td>9</td>\n",
       "    </tr>\n",
       "  </tbody>\n",
       "</table>\n",
       "</div>"
      ],
      "text/plain": [
       "     MUNICIPIO  UF  IDADE  GRUPO_DE_IDADE      SEXO    RACA  \\\n",
       "554  SAO PAULO  SP     18              15  Feminino  Branca   \n",
       "556  SAO PAULO  SP     18              15  Feminino  Branca   \n",
       "558  SAO PAULO  SP     19              15  Feminino  Branca   \n",
       "559  SAO PAULO  SP     19              15  Feminino  Branca   \n",
       "560  SAO PAULO  SP     19              15  Feminino  Branca   \n",
       "\n",
       "    COVID_E_OUTRAS_SRAG EVOLUACAO  N_HOMENS  N_MULHERES  CASOS  Raca_ID  \\\n",
       "554            COVID 19      Cura       NaN        18.0      1        1   \n",
       "556            COVID 19      Cura       NaN        18.0      1        1   \n",
       "558            COVID 19      Cura       NaN        19.0      1        1   \n",
       "559            COVID 19      Cura       NaN        19.0      1        1   \n",
       "560            COVID 19      Cura       NaN        19.0      1        1   \n",
       "\n",
       "    Cs Sexo_ID DATA_DE_NOTIFICACAO  FAIXA_ETARIA  EVOLUCAO_NOT_NULL  \\\n",
       "554   Feminino          2020-05-19            15                  1   \n",
       "556   Feminino          2020-12-14            15                  1   \n",
       "558   Feminino          2020-05-16            15                  1   \n",
       "559   Feminino          2020-05-22            15                  1   \n",
       "560   Feminino          2020-09-21            15                  1   \n",
       "\n",
       "    ULTIMA_DATA_DE_NOTIFICACAO agerange   ano  mes  \n",
       "554                 29/09/2020    10-19  2020    5  \n",
       "556                 29/09/2020    10-19  2020   12  \n",
       "558                 29/09/2020    10-19  2020    5  \n",
       "559                 29/09/2020    10-19  2020    5  \n",
       "560                 29/09/2020    10-19  2020    9  "
      ]
     },
     "execution_count": 26,
     "metadata": {},
     "output_type": "execute_result"
    }
   ],
   "source": [
    "# Vendo meu df\n",
    "df.head()"
   ]
  },
  {
   "cell_type": "code",
   "execution_count": 27,
   "id": "concrete-control",
   "metadata": {},
   "outputs": [],
   "source": [
    "#Selecionando apenas ano de 2020\n",
    "df_2020 = df[df.ano == 2020]"
   ]
  },
  {
   "cell_type": "code",
   "execution_count": 28,
   "id": "comparable-whale",
   "metadata": {},
   "outputs": [],
   "source": [
    "#Selecionando apenas ano de 2021\n",
    "df_2021 = df[df.ano == 2021]"
   ]
  },
  {
   "cell_type": "code",
   "execution_count": 29,
   "id": "sound-indonesian",
   "metadata": {},
   "outputs": [],
   "source": [
    "#tabelas por faixa etaria em 2020\n",
    "faixa_90 = df_2020[df_2020['agerange'] == '90+']\n",
    "faixa_80_89 = df_2020[df_2020['agerange'] == '80-89']\n",
    "faixa_70_79 = df_2020[df_2020['agerange'] == '70-79']\n",
    "faixa_60_69 = df_2020[df_2020['agerange'] == '60-69']\n",
    "faixa_50_59 = df_2020[df_2020['agerange'] == '50-59']\n",
    "faixa_40_49 = df_2020[df_2020['agerange'] == '40-49']\n",
    "faixa_30_39 = df_2020[df_2020['agerange'] == '30-39']\n",
    "faixa_20_29 = df_2020[df_2020['agerange'] == '20-29']\n",
    "faixa_10_19 = df_2020[df_2020['agerange'] == '10-19']\n",
    "faixa_10 = df_2020[df_2020['agerange'] == '10-']"
   ]
  },
  {
   "cell_type": "code",
   "execution_count": 30,
   "id": "native-prior",
   "metadata": {},
   "outputs": [],
   "source": [
    "#tabelas por faixa etaria em 2021\n",
    "faixa_n_90 = df_2021[df_2021['agerange'] == '90+']\n",
    "faixa_n_80_89 = df_2021[df_2021['agerange'] == '80-89']\n",
    "faixa_n_70_79 = df_2021[df_2021['agerange'] == '70-79']\n",
    "faixa_n_60_69 = df_2021[df_2021['agerange'] == '60-69']\n",
    "faixa_n_50_59 = df_2021[df_2021['agerange'] == '50-59']\n",
    "faixa_n_40_49 = df_2021[df_2021['agerange'] == '40-49']\n",
    "faixa_n_30_39 = df_2021[df_2021['agerange'] == '30-39']\n",
    "faixa_n_20_29 = df_2021[df_2021['agerange'] == '20-29']\n",
    "faixa_n_10_19 = df_2021[df_2021['agerange'] == '10-19']\n",
    "faixa_n_10 = df_2021[df_2021['agerange'] == '10-']"
   ]
  },
  {
   "cell_type": "markdown",
   "id": "dynamic-progress",
   "metadata": {},
   "source": [
    "### Analisando por faixa etária"
   ]
  },
  {
   "cell_type": "markdown",
   "id": "incoming-dependence",
   "metadata": {},
   "source": [
    "#### faixa_10"
   ]
  },
  {
   "cell_type": "code",
   "execution_count": 31,
   "id": "considerable-spirituality",
   "metadata": {},
   "outputs": [
    {
     "data": {
      "text/plain": [
       "5     124\n",
       "6     115\n",
       "7      94\n",
       "4      77\n",
       "11     67\n",
       "8      57\n",
       "9      52\n",
       "12     47\n",
       "10     29\n",
       "3      23\n",
       "Name: mes, dtype: int64"
      ]
     },
     "execution_count": 31,
     "metadata": {},
     "output_type": "execute_result"
    }
   ],
   "source": [
    "faixa_10 = (faixa_10['mes'].value_counts())\n",
    "faixa_10"
   ]
  },
  {
   "cell_type": "code",
   "execution_count": 32,
   "id": "golden-checkout",
   "metadata": {},
   "outputs": [
    {
     "data": {
      "text/plain": [
       "1    13\n",
       "Name: mes, dtype: int64"
      ]
     },
     "execution_count": 32,
     "metadata": {},
     "output_type": "execute_result"
    }
   ],
   "source": [
    "faixa_n_10 = (faixa_n_10['mes'].value_counts())\n",
    "faixa_n_10"
   ]
  },
  {
   "cell_type": "markdown",
   "id": "descending-concentrate",
   "metadata": {},
   "source": [
    "#### faixa_10_19"
   ]
  },
  {
   "cell_type": "code",
   "execution_count": 22,
   "id": "comparative-agenda",
   "metadata": {},
   "outputs": [
    {
     "data": {
      "text/plain": [
       "7     291\n",
       "8     286\n",
       "6     251\n",
       "9     220\n",
       "12    207\n",
       "5     197\n",
       "10    190\n",
       "4     185\n",
       "11    175\n",
       "3     137\n",
       "2      21\n",
       "1       5\n",
       "Name: mes, dtype: int64"
      ]
     },
     "execution_count": 22,
     "metadata": {},
     "output_type": "execute_result"
    }
   ],
   "source": [
    "faixa_10_19 = (faixa_10_19['mes'].value_counts())\n",
    "faixa_10_19"
   ]
  },
  {
   "cell_type": "code",
   "execution_count": 23,
   "id": "fantastic-philadelphia",
   "metadata": {},
   "outputs": [
    {
     "data": {
      "text/plain": [
       "1    44\n",
       "2     1\n",
       "Name: mes, dtype: int64"
      ]
     },
     "execution_count": 23,
     "metadata": {},
     "output_type": "execute_result"
    }
   ],
   "source": [
    "faixa_n_10_19 = (faixa_n_10_19['mes'].value_counts())\n",
    "faixa_n_10_19"
   ]
  },
  {
   "cell_type": "markdown",
   "id": "chicken-dating",
   "metadata": {},
   "source": [
    "#### faixa_20_29"
   ]
  },
  {
   "cell_type": "code",
   "execution_count": 24,
   "id": "happy-velvet",
   "metadata": {},
   "outputs": [
    {
     "data": {
      "text/plain": [
       "7     426\n",
       "6     425\n",
       "4     415\n",
       "8     384\n",
       "5     348\n",
       "3     322\n",
       "12    315\n",
       "9     310\n",
       "11    276\n",
       "10    274\n",
       "2      12\n",
       "1       9\n",
       "Name: mes, dtype: int64"
      ]
     },
     "execution_count": 24,
     "metadata": {},
     "output_type": "execute_result"
    }
   ],
   "source": [
    "faixa_20_29 = (faixa_20_29['mes'].value_counts())\n",
    "faixa_20_29"
   ]
  },
  {
   "cell_type": "code",
   "execution_count": 25,
   "id": "mexican-legislature",
   "metadata": {},
   "outputs": [
    {
     "data": {
      "text/plain": [
       "1    67\n",
       "2     1\n",
       "Name: mes, dtype: int64"
      ]
     },
     "execution_count": 25,
     "metadata": {},
     "output_type": "execute_result"
    }
   ],
   "source": [
    "faixa_n_20_29 = (faixa_n_20_29['mes'].value_counts())\n",
    "faixa_n_20_29"
   ]
  },
  {
   "cell_type": "markdown",
   "id": "dense-mentor",
   "metadata": {},
   "source": [
    "#### faixa_30_39"
   ]
  },
  {
   "cell_type": "code",
   "execution_count": 26,
   "id": "broke-architecture",
   "metadata": {},
   "outputs": [
    {
     "data": {
      "text/plain": [
       "4     769\n",
       "5     642\n",
       "6     629\n",
       "7     608\n",
       "3     505\n",
       "8     499\n",
       "12    491\n",
       "9     414\n",
       "11    338\n",
       "10    321\n",
       "2      18\n",
       "1       8\n",
       "Name: mes, dtype: int64"
      ]
     },
     "execution_count": 26,
     "metadata": {},
     "output_type": "execute_result"
    }
   ],
   "source": [
    "faixa_30_39 = (faixa_30_39['mes'].value_counts())\n",
    "faixa_30_39"
   ]
  },
  {
   "cell_type": "code",
   "execution_count": 27,
   "id": "pending-three",
   "metadata": {},
   "outputs": [
    {
     "data": {
      "text/plain": [
       "1    127\n",
       "2      2\n",
       "Name: mes, dtype: int64"
      ]
     },
     "execution_count": 27,
     "metadata": {},
     "output_type": "execute_result"
    }
   ],
   "source": [
    "faixa_n_30_39 = (faixa_n_30_39['mes'].value_counts())\n",
    "faixa_n_30_39"
   ]
  },
  {
   "cell_type": "markdown",
   "id": "excited-collective",
   "metadata": {},
   "source": [
    "#### faixa_40_49"
   ]
  },
  {
   "cell_type": "code",
   "execution_count": 28,
   "id": "weekly-means",
   "metadata": {},
   "outputs": [
    {
     "data": {
      "text/plain": [
       "4     882\n",
       "5     828\n",
       "7     778\n",
       "6     734\n",
       "12    588\n",
       "8     540\n",
       "9     465\n",
       "3     447\n",
       "11    394\n",
       "10    358\n",
       "2      12\n",
       "1      10\n",
       "Name: mes, dtype: int64"
      ]
     },
     "execution_count": 28,
     "metadata": {},
     "output_type": "execute_result"
    }
   ],
   "source": [
    "faixa_40_49 = (faixa_40_49['mes'].value_counts())\n",
    "faixa_40_49"
   ]
  },
  {
   "cell_type": "code",
   "execution_count": 29,
   "id": "smoking-wonder",
   "metadata": {},
   "outputs": [
    {
     "data": {
      "text/plain": [
       "1    204\n",
       "2      2\n",
       "Name: mes, dtype: int64"
      ]
     },
     "execution_count": 29,
     "metadata": {},
     "output_type": "execute_result"
    }
   ],
   "source": [
    "faixa_n_40_49 = (faixa_n_40_49['mes'].value_counts())\n",
    "faixa_n_40_49"
   ]
  },
  {
   "cell_type": "markdown",
   "id": "front-gasoline",
   "metadata": {},
   "source": [
    "#### faixa_50_59"
   ]
  },
  {
   "cell_type": "code",
   "execution_count": 30,
   "id": "golden-plaza",
   "metadata": {
    "scrolled": true
   },
   "outputs": [
    {
     "data": {
      "text/plain": [
       "5     973\n",
       "4     963\n",
       "7     915\n",
       "6     875\n",
       "12    775\n",
       "8     715\n",
       "9     555\n",
       "11    488\n",
       "10    451\n",
       "3     425\n",
       "2      13\n",
       "1       5\n",
       "Name: mes, dtype: int64"
      ]
     },
     "execution_count": 30,
     "metadata": {},
     "output_type": "execute_result"
    }
   ],
   "source": [
    "faixa_50_59 = (faixa_50_59['mes'].value_counts())\n",
    "faixa_50_59"
   ]
  },
  {
   "cell_type": "code",
   "execution_count": 31,
   "id": "guilty-advisory",
   "metadata": {},
   "outputs": [
    {
     "data": {
      "text/plain": [
       "1    222\n",
       "2      1\n",
       "Name: mes, dtype: int64"
      ]
     },
     "execution_count": 31,
     "metadata": {},
     "output_type": "execute_result"
    }
   ],
   "source": [
    "faixa_n_50_59 = (faixa_n_50_59['mes'].value_counts())\n",
    "faixa_n_50_59"
   ]
  },
  {
   "cell_type": "markdown",
   "id": "lined-austria",
   "metadata": {},
   "source": [
    "#### faixa_60_69"
   ]
  },
  {
   "cell_type": "code",
   "execution_count": 32,
   "id": "optional-engineer",
   "metadata": {
    "scrolled": true
   },
   "outputs": [
    {
     "data": {
      "text/plain": [
       "7     1085\n",
       "6     1050\n",
       "5     1043\n",
       "12     963\n",
       "4      914\n",
       "8      887\n",
       "9      759\n",
       "11     640\n",
       "10     589\n",
       "3      417\n",
       "2       10\n",
       "1        5\n",
       "Name: mes, dtype: int64"
      ]
     },
     "execution_count": 32,
     "metadata": {},
     "output_type": "execute_result"
    }
   ],
   "source": [
    "faixa_60_69 = (faixa_60_69['mes'].value_counts())\n",
    "faixa_60_69"
   ]
  },
  {
   "cell_type": "code",
   "execution_count": 33,
   "id": "opponent-increase",
   "metadata": {},
   "outputs": [
    {
     "data": {
      "text/plain": [
       "1    320\n",
       "2      3\n",
       "Name: mes, dtype: int64"
      ]
     },
     "execution_count": 33,
     "metadata": {},
     "output_type": "execute_result"
    }
   ],
   "source": [
    "faixa_n_60_69 = (faixa_n_60_69['mes'].value_counts())\n",
    "faixa_n_60_69"
   ]
  },
  {
   "cell_type": "markdown",
   "id": "ancient-convergence",
   "metadata": {},
   "source": [
    "#### faixa_70_79"
   ]
  },
  {
   "cell_type": "code",
   "execution_count": 34,
   "id": "romance-flush",
   "metadata": {
    "scrolled": true
   },
   "outputs": [
    {
     "data": {
      "text/plain": [
       "7     1003\n",
       "6      960\n",
       "5      933\n",
       "8      854\n",
       "4      831\n",
       "12     790\n",
       "9      677\n",
       "11     601\n",
       "10     576\n",
       "3      423\n",
       "2        4\n",
       "1        1\n",
       "Name: mes, dtype: int64"
      ]
     },
     "execution_count": 34,
     "metadata": {},
     "output_type": "execute_result"
    }
   ],
   "source": [
    "faixa_70_79 = (faixa_70_79['mes'].value_counts())\n",
    "faixa_70_79"
   ]
  },
  {
   "cell_type": "code",
   "execution_count": 35,
   "id": "spoken-basin",
   "metadata": {},
   "outputs": [
    {
     "data": {
      "text/plain": [
       "1    258\n",
       "2      1\n",
       "Name: mes, dtype: int64"
      ]
     },
     "execution_count": 35,
     "metadata": {},
     "output_type": "execute_result"
    }
   ],
   "source": [
    "faixa_n_70_79 = (faixa_n_70_79['mes'].value_counts())\n",
    "faixa_n_70_79"
   ]
  },
  {
   "cell_type": "markdown",
   "id": "focal-robinson",
   "metadata": {},
   "source": [
    "#### faixa_80_89"
   ]
  },
  {
   "cell_type": "code",
   "execution_count": 36,
   "id": "excellent-karma",
   "metadata": {
    "scrolled": true
   },
   "outputs": [
    {
     "data": {
      "text/plain": [
       "6     880\n",
       "5     802\n",
       "7     771\n",
       "8     732\n",
       "4     669\n",
       "9     592\n",
       "12    569\n",
       "10    492\n",
       "11    441\n",
       "3     269\n",
       "1       6\n",
       "2       6\n",
       "Name: mes, dtype: int64"
      ]
     },
     "execution_count": 36,
     "metadata": {},
     "output_type": "execute_result"
    }
   ],
   "source": [
    "faixa_80_89 = (faixa_80_89['mes'].value_counts())\n",
    "faixa_80_89"
   ]
  },
  {
   "cell_type": "code",
   "execution_count": 37,
   "id": "honey-indiana",
   "metadata": {},
   "outputs": [
    {
     "data": {
      "text/plain": [
       "1    162\n",
       "2      1\n",
       "Name: mes, dtype: int64"
      ]
     },
     "execution_count": 37,
     "metadata": {},
     "output_type": "execute_result"
    }
   ],
   "source": [
    "faixa_n_80_89 = (faixa_n_80_89['mes'].value_counts())\n",
    "faixa_n_80_89"
   ]
  },
  {
   "cell_type": "markdown",
   "id": "considered-decade",
   "metadata": {},
   "source": [
    "#### faixa_90"
   ]
  },
  {
   "cell_type": "code",
   "execution_count": 38,
   "id": "timely-induction",
   "metadata": {
    "scrolled": true
   },
   "outputs": [
    {
     "data": {
      "text/plain": [
       "6     363\n",
       "8     344\n",
       "7     322\n",
       "5     316\n",
       "4     291\n",
       "9     227\n",
       "10    204\n",
       "12    189\n",
       "11    176\n",
       "3      77\n",
       "2       3\n",
       "Name: mes, dtype: int64"
      ]
     },
     "execution_count": 38,
     "metadata": {},
     "output_type": "execute_result"
    }
   ],
   "source": [
    "faixa_90 = (faixa_90['mes'].value_counts())\n",
    "faixa_90"
   ]
  },
  {
   "cell_type": "code",
   "execution_count": 39,
   "id": "altered-nelson",
   "metadata": {},
   "outputs": [
    {
     "data": {
      "text/plain": [
       "1    48\n",
       "2     1\n",
       "Name: mes, dtype: int64"
      ]
     },
     "execution_count": 39,
     "metadata": {},
     "output_type": "execute_result"
    }
   ],
   "source": [
    "faixa_n_90 = (faixa_n_90['mes'].value_counts())\n",
    "faixa_n_90"
   ]
  },
  {
   "cell_type": "code",
   "execution_count": null,
   "id": "spare-container",
   "metadata": {},
   "outputs": [],
   "source": []
  }
 ],
 "metadata": {
  "kernelspec": {
   "display_name": "Python 3",
   "language": "python",
   "name": "python3"
  },
  "language_info": {
   "codemirror_mode": {
    "name": "ipython",
    "version": 3
   },
   "file_extension": ".py",
   "mimetype": "text/x-python",
   "name": "python",
   "nbconvert_exporter": "python",
   "pygments_lexer": "ipython3",
   "version": "3.9.1"
  }
 },
 "nbformat": 4,
 "nbformat_minor": 5
}
